{
 "cells": [
  {
   "cell_type": "code",
   "execution_count": 4,
   "metadata": {},
   "outputs": [],
   "source": [
    "from bs4 import BeautifulSoup\n",
    "import requests\n",
    "from pprint import pprint\n",
    "import pandas as pd"
   ]
  },
  {
   "cell_type": "code",
   "execution_count": 5,
   "metadata": {},
   "outputs": [],
   "source": [
    "def extract_info(item):\n",
    "    v_info = {\"min_salary\" : 0,\n",
    "              \"max_salary\" : 0,\n",
    "              \"currency\" : '', \n",
    "              \"title\": '', \n",
    "              \"link\":'',\n",
    "              \"source\":''}\n",
    "    # Название вакансии\n",
    "    title = item.find_all('a', {'data-qa':'vacancy-serp__vacancy-title'})[0].text\n",
    "    v_info['title'] = title\n",
    "\n",
    "    # Зарплата\n",
    "    money1 = item.find_all('span',{'data-qa':['vacancy-serp__vacancy-compensation']})[0].text\n",
    "\n",
    "    money1 = money1.replace('\\u202f','')\n",
    "\n",
    "    if 'руб' in money1: \n",
    "        money1 = money1.replace(' руб.','')\n",
    "        v_info[\"currency\"] = 'руб'\n",
    "\n",
    "    if '–' in money1: \n",
    "        money1 = money1.split(' – ')\n",
    "        v_info[\"min_salary\"] = int(money1[0])\n",
    "        v_info[\"max_salary\"] = int(money1[1])\n",
    "\n",
    "    if 'от' in money1: \n",
    "        money1 = money1.replace('от ','')\n",
    "        v_info[\"min_salary\"] = int(money1)\n",
    "    \n",
    "    #Ссылка\n",
    "    v_info['link'] = item.find_all('a')[0].get('href')\n",
    "    \n",
    "    #Источник\n",
    "    v_info[\"source\"] = 'hh.ru'\n",
    "    return v_info"
   ]
  },
  {
   "cell_type": "code",
   "execution_count": 6,
   "metadata": {},
   "outputs": [],
   "source": [
    "headers = {'User-Agent':\n",
    "    'Mozilla/5.0 (Windows NT 10.0; Win64; x64)'}\n",
    "\n",
    "occupation = 'учитель'\n",
    "main_link = 'https://hh.ru'\n",
    "\n",
    "response = requests.get(f'{main_link}/search/vacancy?area=1&st=searchVacancy&text={occupation}', headers=headers)\n",
    "dom = BeautifulSoup(response.text, 'html.parser')"
   ]
  },
  {
   "cell_type": "code",
   "execution_count": 7,
   "metadata": {},
   "outputs": [
    {
     "name": "stdout",
     "output_type": "stream",
     "text": [
      "40\n"
     ]
    }
   ],
   "source": [
    "# Находим кол-во страниц\n",
    "\n",
    "div = dom.find_all('div', {'class': ['pager']})[0]\n",
    "a_bb = div.find_all('a', {'class':'bloko-button'})\n",
    "\n",
    "pages = []\n",
    "for b in a_bb:\n",
    "    pages.append(b.find_all('span')[0].text)\n",
    "\n",
    "num_of_pages = int(pages[-2])\n",
    "print(num_of_pages)"
   ]
  },
  {
   "cell_type": "code",
   "execution_count": 8,
   "metadata": {},
   "outputs": [
    {
     "name": "stdout",
     "output_type": "stream",
     "text": [
      "Загрузка страницы:  0\n",
      "Загрузка страницы:  1\n",
      "Загрузка страницы:  2\n",
      "Всего вакансий:  60\n"
     ]
    }
   ],
   "source": [
    "# Скачиваем данные со страниц\n",
    "vacs = []\n",
    "num_of_pages = 3\n",
    "for page in range(num_of_pages):\n",
    "    print(\"Загрузка страницы: \", page)\n",
    "    link = f'{main_link}/search/vacancy?area=1&st=searchVacancy&text={occupation}&page={page}'\n",
    "    response = requests.get(link, headers=headers)\n",
    "    dom = BeautifulSoup(response.text, 'html.parser')\n",
    "    vacs += dom.find_all('div', {'class': ['vacancy-serp-item']})\n",
    "#     soup = bs(response,'lxml')\n",
    "#     vacancy += (soup.find_all('div', {'data-qa':'vacancy-serp__vacancy'}))\n",
    "\n",
    "print(\"Всего вакансий: \", len(vacs))"
   ]
  },
  {
   "cell_type": "code",
   "execution_count": 9,
   "metadata": {},
   "outputs": [],
   "source": [
    "# Обрабатываем вакансии\n",
    "\n",
    "vs_info = []\n",
    "for item in vacs:\n",
    "    try:\n",
    "        vs_info.append(extract_info(item))\n",
    "    except:\n",
    "        pass"
   ]
  },
  {
   "cell_type": "code",
   "execution_count": 10,
   "metadata": {},
   "outputs": [
    {
     "data": {
      "text/html": [
       "<div>\n",
       "<style scoped>\n",
       "    .dataframe tbody tr th:only-of-type {\n",
       "        vertical-align: middle;\n",
       "    }\n",
       "\n",
       "    .dataframe tbody tr th {\n",
       "        vertical-align: top;\n",
       "    }\n",
       "\n",
       "    .dataframe thead th {\n",
       "        text-align: right;\n",
       "    }\n",
       "</style>\n",
       "<table border=\"1\" class=\"dataframe\">\n",
       "  <thead>\n",
       "    <tr style=\"text-align: right;\">\n",
       "      <th></th>\n",
       "      <th>min_salary</th>\n",
       "      <th>max_salary</th>\n",
       "      <th>currency</th>\n",
       "      <th>title</th>\n",
       "      <th>link</th>\n",
       "      <th>source</th>\n",
       "    </tr>\n",
       "  </thead>\n",
       "  <tbody>\n",
       "    <tr>\n",
       "      <th>0</th>\n",
       "      <td>40000</td>\n",
       "      <td>100000</td>\n",
       "      <td>руб</td>\n",
       "      <td>Педагог начальных классов со знанием английско...</td>\n",
       "      <td>https://nn.hh.ru/vacancy/67452288?from=vacancy...</td>\n",
       "      <td>hh.ru</td>\n",
       "    </tr>\n",
       "    <tr>\n",
       "      <th>1</th>\n",
       "      <td>40000</td>\n",
       "      <td>100000</td>\n",
       "      <td>руб</td>\n",
       "      <td>Преподаватель ментальной арифметики</td>\n",
       "      <td>https://nn.hh.ru/vacancy/67452266?from=vacancy...</td>\n",
       "      <td>hh.ru</td>\n",
       "    </tr>\n",
       "    <tr>\n",
       "      <th>2</th>\n",
       "      <td>80000</td>\n",
       "      <td>0</td>\n",
       "      <td>руб</td>\n",
       "      <td>Учитель иностранного языка в школу</td>\n",
       "      <td>https://nn.hh.ru/vacancy/67622589?from=vacancy...</td>\n",
       "      <td>hh.ru</td>\n",
       "    </tr>\n",
       "    <tr>\n",
       "      <th>3</th>\n",
       "      <td>120000</td>\n",
       "      <td>0</td>\n",
       "      <td>руб</td>\n",
       "      <td>Учитель начальных классов</td>\n",
       "      <td>https://nn.hh.ru/vacancy/52238064?from=vacancy...</td>\n",
       "      <td>hh.ru</td>\n",
       "    </tr>\n",
       "    <tr>\n",
       "      <th>4</th>\n",
       "      <td>95000</td>\n",
       "      <td>105000</td>\n",
       "      <td>руб</td>\n",
       "      <td>Учитель русского языка и литературы</td>\n",
       "      <td>https://nn.hh.ru/vacancy/67628467?from=vacancy...</td>\n",
       "      <td>hh.ru</td>\n",
       "    </tr>\n",
       "  </tbody>\n",
       "</table>\n",
       "</div>"
      ],
      "text/plain": [
       "   min_salary  max_salary currency  \\\n",
       "0       40000      100000      руб   \n",
       "1       40000      100000      руб   \n",
       "2       80000           0      руб   \n",
       "3      120000           0      руб   \n",
       "4       95000      105000      руб   \n",
       "\n",
       "                                               title  \\\n",
       "0  Педагог начальных классов со знанием английско...   \n",
       "1                Преподаватель ментальной арифметики   \n",
       "2                 Учитель иностранного языка в школу   \n",
       "3                          Учитель начальных классов   \n",
       "4                Учитель русского языка и литературы   \n",
       "\n",
       "                                                link source  \n",
       "0  https://nn.hh.ru/vacancy/67452288?from=vacancy...  hh.ru  \n",
       "1  https://nn.hh.ru/vacancy/67452266?from=vacancy...  hh.ru  \n",
       "2  https://nn.hh.ru/vacancy/67622589?from=vacancy...  hh.ru  \n",
       "3  https://nn.hh.ru/vacancy/52238064?from=vacancy...  hh.ru  \n",
       "4  https://nn.hh.ru/vacancy/67628467?from=vacancy...  hh.ru  "
      ]
     },
     "execution_count": 10,
     "metadata": {},
     "output_type": "execute_result"
    }
   ],
   "source": [
    "# Cмотрим результат\n",
    "df_hh = pd.DataFrame(vs_info)\n",
    "df_hh.head()"
   ]
  },
  {
   "cell_type": "code",
   "execution_count": 190,
   "metadata": {},
   "outputs": [],
   "source": [
    "#Сохраняем данные в файл\n",
    "df_hh.to_csv(f'HeadHunter.csv')"
   ]
  }
 ],
 "metadata": {
  "kernelspec": {
   "display_name": "Python 3",
   "language": "python",
   "name": "python3"
  },
  "language_info": {
   "codemirror_mode": {
    "name": "ipython",
    "version": 3
   },
   "file_extension": ".py",
   "mimetype": "text/x-python",
   "name": "python",
   "nbconvert_exporter": "python",
   "pygments_lexer": "ipython3",
   "version": "3.8.3"
  }
 },
 "nbformat": 4,
 "nbformat_minor": 4
}

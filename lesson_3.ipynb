{
 "cells": [
  {
   "cell_type": "code",
   "execution_count": 1,
   "id": "634de932-6961-4dee-96b5-a2b7f60724d1",
   "metadata": {},
   "outputs": [
    {
     "name": "stdout",
     "output_type": "stream",
     "text": [
      "Collecting pymongo\n",
      "  Downloading pymongo-4.1.1-cp39-cp39-manylinux_2_17_x86_64.manylinux2014_x86_64.whl (471 kB)\n",
      "\u001b[K     |████████████████████████████████| 471 kB 855 kB/s eta 0:00:01\n",
      "\u001b[?25hInstalling collected packages: pymongo\n",
      "Successfully installed pymongo-4.1.1\n"
     ]
    }
   ],
   "source": [
    "!pip install pymongo"
   ]
  },
  {
   "cell_type": "code",
   "execution_count": 65,
   "id": "b87261ef-e9a5-4fa2-8fbd-021f82d3d952",
   "metadata": {},
   "outputs": [],
   "source": [
    "from pymongo import MongoClient\n",
    "import pymongo"
   ]
  },
  {
   "cell_type": "code",
   "execution_count": 62,
   "id": "ec889257-6c67-4631-97cf-4053e74c435b",
   "metadata": {},
   "outputs": [
    {
     "data": {
      "text/plain": [
       "MongoClient(host=['172.17.0.2:27017'], document_class=dict, tz_aware=False, connect=True)"
      ]
     },
     "execution_count": 62,
     "metadata": {},
     "output_type": "execute_result"
    }
   ],
   "source": [
    "# Запускаем сервер MongoDB в Docker'e\n",
    "\n",
    "# https://hub.docker.com/_/mongo\n",
    "# docker pull mongo\n",
    "# docker run --name some-mongo -d mongo:tag\n",
    "\n",
    "# Подключаемся к серверу. IP адрес находим через docker inspect\n",
    "# docker inspect {container_id} -> monogodb IP Address\n",
    "client = MongoClient('172.17.0.2', 27017)\n",
    "client"
   ]
  },
  {
   "cell_type": "code",
   "execution_count": 63,
   "id": "3c781b25-593f-48b8-a3ae-8d7310b299b8",
   "metadata": {},
   "outputs": [],
   "source": [
    "# Переключаемся на БД вакансий\n",
    "db = client['vacancy']\n",
    "# Создаем раздел вакансий с hh.ru\n",
    "hh_vac = db.hh"
   ]
  },
  {
   "cell_type": "code",
   "execution_count": 57,
   "id": "5d9d84b6-d7d0-4c7c-a296-ee08f961f4ff",
   "metadata": {},
   "outputs": [
    {
     "data": {
      "text/html": [
       "<div>\n",
       "<style scoped>\n",
       "    .dataframe tbody tr th:only-of-type {\n",
       "        vertical-align: middle;\n",
       "    }\n",
       "\n",
       "    .dataframe tbody tr th {\n",
       "        vertical-align: top;\n",
       "    }\n",
       "\n",
       "    .dataframe thead th {\n",
       "        text-align: right;\n",
       "    }\n",
       "</style>\n",
       "<table border=\"1\" class=\"dataframe\">\n",
       "  <thead>\n",
       "    <tr style=\"text-align: right;\">\n",
       "      <th></th>\n",
       "      <th>min_salary</th>\n",
       "      <th>max_salary</th>\n",
       "      <th>currency</th>\n",
       "      <th>title</th>\n",
       "      <th>link</th>\n",
       "      <th>source</th>\n",
       "    </tr>\n",
       "  </thead>\n",
       "  <tbody>\n",
       "    <tr>\n",
       "      <th>0</th>\n",
       "      <td>80000</td>\n",
       "      <td>0</td>\n",
       "      <td>руб</td>\n",
       "      <td>Учитель иностранного языка в школу</td>\n",
       "      <td>https://nn.hh.ru/vacancy/67622589?from=vacancy...</td>\n",
       "      <td>hh.ru</td>\n",
       "    </tr>\n",
       "    <tr>\n",
       "      <th>1</th>\n",
       "      <td>120000</td>\n",
       "      <td>0</td>\n",
       "      <td>руб</td>\n",
       "      <td>Учитель начальных классов</td>\n",
       "      <td>https://nn.hh.ru/vacancy/52238064?from=vacancy...</td>\n",
       "      <td>hh.ru</td>\n",
       "    </tr>\n",
       "  </tbody>\n",
       "</table>\n",
       "</div>"
      ],
      "text/plain": [
       "   min_salary  max_salary currency                               title  \\\n",
       "0       80000           0      руб  Учитель иностранного языка в школу   \n",
       "1      120000           0      руб           Учитель начальных классов   \n",
       "\n",
       "                                                link source  \n",
       "0  https://nn.hh.ru/vacancy/67622589?from=vacancy...  hh.ru  \n",
       "1  https://nn.hh.ru/vacancy/52238064?from=vacancy...  hh.ru  "
      ]
     },
     "execution_count": 57,
     "metadata": {},
     "output_type": "execute_result"
    }
   ],
   "source": [
    "# Считываем собраные вакансии из файла\n",
    "import pandas\n",
    "df_hh = pandas.read_csv('HeadHunter.csv')\n",
    "df_hh = df_hh.drop(columns = ['Unnamed: 0'])\n",
    "df_hh.head(2)"
   ]
  },
  {
   "cell_type": "code",
   "execution_count": 58,
   "id": "8293db35-157d-4c31-abd2-0f53d9022d4c",
   "metadata": {},
   "outputs": [
    {
     "data": {
      "text/plain": [
       "{'min_salary': 80000,\n",
       " 'max_salary': 0,\n",
       " 'currency': 'руб',\n",
       " 'title': 'Учитель иностранного языка в школу',\n",
       " 'link': 'https://nn.hh.ru/vacancy/67622589?from=vacancy_search_list&hhtmFrom=vacancy_search_list&query=%D1%83%D1%87%D0%B8%D1%82%D0%B5%D0%BB%D1%8C',\n",
       " 'source': 'hh.ru'}"
      ]
     },
     "execution_count": 58,
     "metadata": {},
     "output_type": "execute_result"
    }
   ],
   "source": [
    "# Конвертируем в список словарей\n",
    "d_hh = df_hh.to_dict('records')\n",
    "d_hh[0]"
   ]
  },
  {
   "cell_type": "code",
   "execution_count": 59,
   "id": "6b3419a7-f7a7-4c62-8f59-bfa6115b9856",
   "metadata": {},
   "outputs": [],
   "source": [
    "# для кадой записи генерируем хеш\n",
    "\n",
    "for id, item in enumerate(d_hh):\n",
    "    d_hh[id]['hash'] = hash(frozenset(item.items()))\n",
    "d_hh[0]"
   ]
  },
  {
   "cell_type": "code",
   "execution_count": 66,
   "id": "c243cccc-6f83-41cf-8a00-e8b9b031ad5b",
   "metadata": {},
   "outputs": [
    {
     "data": {
      "text/plain": [
       "'hash_index'"
      ]
     },
     "execution_count": 66,
     "metadata": {},
     "output_type": "execute_result"
    }
   ],
   "source": [
    "# создаем индекс в БД\n",
    "hh_vac.create_index([('hash', pymongo.TEXT)], name='hash_index', unique=True)"
   ]
  },
  {
   "cell_type": "code",
   "execution_count": 68,
   "id": "9f0d385f-bbd4-4859-be2d-1d8aeeb3d351",
   "metadata": {},
   "outputs": [],
   "source": [
    "# загружаем первые 5 записей в БД\n",
    "\n",
    "import pymongo\n",
    "\n",
    "for i in range(5):\n",
    "    doc = d_hh[i]\n",
    "    # print(doc)\n",
    "    hh_vac.insert_one(doc)"
   ]
  },
  {
   "cell_type": "code",
   "execution_count": 72,
   "id": "ccb1f538-b1a2-44b4-99b6-e1935f2cfefd",
   "metadata": {},
   "outputs": [
    {
     "data": {
      "text/plain": [
       "5"
      ]
     },
     "execution_count": 72,
     "metadata": {},
     "output_type": "execute_result"
    }
   ],
   "source": [
    "# смотрим кол-во записей в БД\n",
    "from pprint import pprint\n",
    "items_in_db = []\n",
    "for item in hh_vac.find({}):\n",
    "    items_in_db.append(item)\n",
    "    # pprint(item)\n",
    "len(items_in_db)"
   ]
  },
  {
   "cell_type": "code",
   "execution_count": 75,
   "id": "06beea87-51aa-4b1f-a0b4-55e00c7147d4",
   "metadata": {},
   "outputs": [
    {
     "name": "stdout",
     "output_type": "stream",
     "text": [
      "Document with id = -5985582358543763169 is already exists\n",
      "Document with id = -2286417192751374999 is already exists\n",
      "Document with id = 1950246790670858142 is already exists\n",
      "Document with id = 7225811368836930956 is already exists\n",
      "Document with id = -5045619242485330628 is already exists\n"
     ]
    }
   ],
   "source": [
    "# загружаем первые 7 записей в БД\n",
    "\n",
    "import pymongo\n",
    "from pymongo import errors\n",
    "for i in range(7):\n",
    "    doc = d_hh[i]\n",
    "    # print(doc)\n",
    "    try:\n",
    "        hh_vac.insert_one(doc)\n",
    "    except errors.DuplicateKeyError:\n",
    "        print(f\"Document with hash = {doc['hash']} is already exists\")\n",
    "        "
   ]
  },
  {
   "cell_type": "code",
   "execution_count": 76,
   "id": "9fc2e7e9-d94f-4226-ae0b-65897574a61f",
   "metadata": {},
   "outputs": [
    {
     "data": {
      "text/plain": [
       "7"
      ]
     },
     "execution_count": 76,
     "metadata": {},
     "output_type": "execute_result"
    }
   ],
   "source": [
    "# смотрим новое кол-во записей в БД\n",
    "from pprint import pprint\n",
    "items_in_db = []\n",
    "for item in hh_vac.find({}):\n",
    "    items_in_db.append(item)\n",
    "    # pprint(item)\n",
    "len(items_in_db)"
   ]
  },
  {
   "cell_type": "code",
   "execution_count": 77,
   "id": "c7af559d-59f0-42c8-b80d-73886a18bd93",
   "metadata": {},
   "outputs": [
    {
     "name": "stdout",
     "output_type": "stream",
     "text": [
      "Document with hash = -5985582358543763169 is already exists\n",
      "Document with hash = -2286417192751374999 is already exists\n",
      "Document with hash = 1950246790670858142 is already exists\n",
      "Document with hash = 7225811368836930956 is already exists\n",
      "Document with hash = -5045619242485330628 is already exists\n",
      "Document with hash = -5070998086419472134 is already exists\n",
      "Document with hash = -2238314452646932468 is already exists\n"
     ]
    }
   ],
   "source": [
    "# Загружаем все данные в БД\n",
    "\n",
    "import pymongo\n",
    "from pymongo import errors\n",
    "for i in range(len(d_hh)):\n",
    "    doc = d_hh[i]\n",
    "    # print(doc)\n",
    "    try:\n",
    "        hh_vac.insert_one(doc)\n",
    "    except errors.DuplicateKeyError:\n",
    "        print(f\"Document with hash = {doc['hash']} is already exists\")"
   ]
  },
  {
   "cell_type": "code",
   "execution_count": 88,
   "id": "8155e9ae-cde8-468e-a6ac-df387358817c",
   "metadata": {},
   "outputs": [
    {
     "name": "stdout",
     "output_type": "stream",
     "text": [
      "{'_id': ObjectId('62cc296f6381e422dbe47509'),\n",
      " 'currency': 'руб',\n",
      " 'hash': 1950246790670858142,\n",
      " 'link': 'https://nn.hh.ru/vacancy/67628467?from=vacancy_search_list&hhtmFrom=vacancy_search_list&query=%D1%83%D1%87%D0%B8%D1%82%D0%B5%D0%BB%D1%8C',\n",
      " 'max_salary': 105000,\n",
      " 'min_salary': 95000,\n",
      " 'source': 'hh.ru',\n",
      " 'title': 'Учитель русского языка и литературы'}\n",
      "{'_id': ObjectId('62cc2b0d6381e422dbe47512'),\n",
      " 'currency': 'руб',\n",
      " 'hash': -6468384864629407106,\n",
      " 'link': 'https://nn.hh.ru/vacancy/67070468?from=vacancy_search_list&hhtmFrom=vacancy_search_list&query=%D1%83%D1%87%D0%B8%D1%82%D0%B5%D0%BB%D1%8C',\n",
      " 'max_salary': 120000,\n",
      " 'min_salary': 100000,\n",
      " 'source': 'hh.ru',\n",
      " 'title': 'Учитель начальной школы'}\n",
      "{'_id': ObjectId('62cc2b0d6381e422dbe47513'),\n",
      " 'currency': 'руб',\n",
      " 'hash': 7174984906107890259,\n",
      " 'link': 'https://nn.hh.ru/vacancy/67159514?from=vacancy_search_list&hhtmFrom=vacancy_search_list&query=%D1%83%D1%87%D0%B8%D1%82%D0%B5%D0%BB%D1%8C',\n",
      " 'max_salary': 150000,\n",
      " 'min_salary': 100000,\n",
      " 'source': 'hh.ru',\n",
      " 'title': 'Педагог дополнительного образования'}\n",
      "{'_id': ObjectId('62cc2b0d6381e422dbe4751c'),\n",
      " 'currency': 'руб',\n",
      " 'hash': -3432543640682203158,\n",
      " 'link': 'https://nn.hh.ru/vacancy/67628563?from=vacancy_search_list&hhtmFrom=vacancy_search_list&query=%D1%83%D1%87%D0%B8%D1%82%D0%B5%D0%BB%D1%8C',\n",
      " 'max_salary': 105000,\n",
      " 'min_salary': 95000,\n",
      " 'source': 'hh.ru',\n",
      " 'title': 'Учитель английского и немецкого языков'}\n"
     ]
    }
   ],
   "source": [
    "# Ищем вакансии с заработной платой больше введённой суммы \n",
    "\n",
    "salary_level = 90000\n",
    "\n",
    "myquery = { \"min_salary\": { \"$gt\":salary_level }, \"max_salary\": { \"$gt\": salary_level } }\n",
    "for item in hh_vac.find(myquery):\n",
    "    pprint(item)"
   ]
  }
 ],
 "metadata": {
  "kernelspec": {
   "display_name": "Python 3 (ipykernel)",
   "language": "python",
   "name": "python3"
  },
  "language_info": {
   "codemirror_mode": {
    "name": "ipython",
    "version": 3
   },
   "file_extension": ".py",
   "mimetype": "text/x-python",
   "name": "python",
   "nbconvert_exporter": "python",
   "pygments_lexer": "ipython3",
   "version": "3.9.7"
  }
 },
 "nbformat": 4,
 "nbformat_minor": 5
}

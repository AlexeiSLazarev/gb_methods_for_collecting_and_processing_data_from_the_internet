{
 "cells": [
  {
   "cell_type": "code",
   "execution_count": null,
   "id": "2b200f3d-10ca-407b-b8ce-403f651449b4",
   "metadata": {},
   "outputs": [],
   "source": [
    "'''\n",
    "Написать приложение, которое собирает основные новости с сайта на выбор news.mail.ru, lenta.ru, yandex-новости. \n",
    "Для парсинга использовать XPath. Структура данных должна содержать:\n",
    "название источника;\n",
    "наименование новости;\n",
    "ссылку на новость;\n",
    "дата публикации.\n",
    "Сложить собранные новости в БД\n",
    "'''"
   ]
  },
  {
   "cell_type": "code",
   "execution_count": null,
   "id": "ea0a2859-736e-4890-bd3d-719c10bdf836",
   "metadata": {},
   "outputs": [],
   "source": [
    "from lxml import html\n",
    "import requests\n",
    "from pprint import pprint\n",
    "\n",
    "header = {'User-Agent': 'Mozilla/5.0 (X11; Linux x86_64) AppleWebKit/537.36 (KHTML, like Gecko) Chrome/103.0.0.0 Safari/537.36'}\n",
    "\n",
    "url = 'https://www.lenta.ru'\n",
    "\n",
    "session = requests.Session()\n",
    "response = session.get(url, headers=header)\n",
    "\n",
    "dom = html.fromstring(response.text)"
   ]
  },
  {
   "cell_type": "code",
   "execution_count": 118,
   "id": "2faecca1-43d9-45d8-be97-b4ec1b2ec977",
   "metadata": {},
   "outputs": [
    {
     "name": "stdout",
     "output_type": "stream",
     "text": [
      "69\n",
      "81\n"
     ]
    }
   ],
   "source": [
    "# //a[@class='card-mini _longgrid']\n",
    "phones = []\n",
    "types_of_news_nodes = [\"//a[@class='card-mini _longgrid']\",\n",
    "                       \"//a[@class='card-mini _topnews']\"]\n",
    "\n",
    "len(items)\n",
    "news_array = []\n",
    "for query in types_of_news_nodes:\n",
    "    items = dom.xpath(query)\n",
    "    for i in items:\n",
    "        news_item = {'source': 'lenta.ru', 'title':'', 'date':'', 'link':''}\n",
    "        try:\n",
    "            news_item['source'] = 'lenta.ru'\n",
    "            news_item['title'] = i.xpath(\".//span/text()\")[0]\n",
    "            news_item['date'] = i.xpath(\".//div/time/text()\")[0]\n",
    "            news_item['link'] = 'https://lenta.ru' + i.xpath(\"./@href\")[0]\n",
    "            news_array.append(news_item)\n",
    "            # print('https://lenta.ru' + i.xpath(\"./@href\")[0])\n",
    "            # print(i.xpath(\".//span/text()\")[0])\n",
    "            # print(i.xpath(\".//div/time/text()\")[0])\n",
    "        except:\n",
    "            pass\n",
    "    print(len(news_array))\n"
   ]
  },
  {
   "cell_type": "code",
   "execution_count": 120,
   "id": "c5c83b6a-3f57-4911-b234-6e7c69920eff",
   "metadata": {},
   "outputs": [
    {
     "data": {
      "text/plain": [
       "[{'source': 'lenta.ru',\n",
       "  'title': 'Бари Алибасов назвал главные ошибки в своей жизни',\n",
       "  'date': '12:02',\n",
       "  'link': 'https://lenta.ruhttps://moslenta.ru/news/lyudi/bari-alibasov-13-07-2022.htm'},\n",
       " {'source': 'lenta.ru',\n",
       "  'title': 'Звезда «Во все тяжкие» рассказал об инфаркте на съемках «Лучше звоните Солу»',\n",
       "  'date': '11:56',\n",
       "  'link': 'https://lenta.ru/news/2022/07/13/callsoul/'},\n",
       " {'source': 'lenta.ru',\n",
       "  'title': 'Посол ЛНР обвинил ВСУ в уничтожении больниц на оставленных территориях',\n",
       "  'date': '11:54',\n",
       "  'link': 'https://lenta.ru/news/2022/07/13/lbr_hospital/'}]"
      ]
     },
     "execution_count": 120,
     "metadata": {},
     "output_type": "execute_result"
    }
   ],
   "source": [
    "news_array[:3]"
   ]
  },
  {
   "cell_type": "code",
   "execution_count": 122,
   "id": "ac02a9d0-e834-4be9-97bf-689626df2c4c",
   "metadata": {},
   "outputs": [
    {
     "data": {
      "text/plain": [
       "{'source': 'lenta.ru',\n",
       " 'title': 'Бари Алибасов назвал главные ошибки в своей жизни',\n",
       " 'date': '12:02',\n",
       " 'link': 'https://lenta.ruhttps://moslenta.ru/news/lyudi/bari-alibasov-13-07-2022.htm',\n",
       " '_id': 1998652689112135179}"
      ]
     },
     "execution_count": 122,
     "metadata": {},
     "output_type": "execute_result"
    }
   ],
   "source": [
    "for id, item in enumerate(news_array):\n",
    "    news_array[id]['_id'] = hash(frozenset(item.items()))\n",
    "news_array[0]"
   ]
  },
  {
   "cell_type": "code",
   "execution_count": 125,
   "id": "242bd960-275f-4bda-ba58-bdcaf26ce666",
   "metadata": {},
   "outputs": [],
   "source": [
    "###  Загружаем данные в БД\n",
    "\n",
    "from pymongo import MongoClient\n",
    "import pymongo\n",
    "\n",
    "# Запускаем сервер MongoDB в Docker'e\n",
    "\n",
    "# https://hub.docker.com/_/mongo\n",
    "# docker pull mongo\n",
    "# docker run --name some-mongo -d mongo:tag\n",
    "\n",
    "# Подключаемся к серверу. IP адрес находим через docker inspect\n",
    "# docker inspect {container_id} -> monogodb IP Address\n",
    "client = MongoClient('172.17.0.2', 27017)"
   ]
  },
  {
   "cell_type": "code",
   "execution_count": 126,
   "id": "d63cad78-fb8e-4ba2-ba0c-8068699c42ea",
   "metadata": {},
   "outputs": [],
   "source": [
    "\n",
    "# Переключаемся на БД новостей\n",
    "news_db = client['news_db']\n",
    "# Создаем раздел новостей с lenta.ru\n",
    "lenta_db = news_db.lentaru"
   ]
  },
  {
   "cell_type": "code",
   "execution_count": 133,
   "id": "55cfdd8b-e738-46cb-8294-ca990e508b80",
   "metadata": {},
   "outputs": [
    {
     "name": "stdout",
     "output_type": "stream",
     "text": [
      "Document with hash = 1998652689112135179 is already exists\n",
      "Document with hash = -1151951631188106829 is already exists\n",
      "Document with hash = 607340052048478650 is already exists\n",
      "Document with hash = -5197841739870923715 is already exists\n",
      "Document with hash = 4161179272525698822 is already exists\n",
      "Document with hash = -7154723606627117978 is already exists\n",
      "Document with hash = 8793154413947728986 is already exists\n"
     ]
    }
   ],
   "source": [
    "# Загружаем новости в раздел lenta.ru\n",
    "import pymongo\n",
    "from pymongo import errors\n",
    "for i in range(len(news_array)):\n",
    "    doc = news_array[i]\n",
    "    # print(doc)\n",
    "    try:\n",
    "        lenta_db.insert_one(doc)\n",
    "    except errors.DuplicateKeyError:\n",
    "        print(f\"Document with hash = {doc['_id']} is already exists\")"
   ]
  },
  {
   "cell_type": "code",
   "execution_count": 138,
   "id": "5c894af5-d530-4698-b244-39723c3ea1ec",
   "metadata": {},
   "outputs": [
    {
     "name": "stdout",
     "output_type": "stream",
     "text": [
      "{'_id': 1998652689112135179,\n",
      " 'date': '12:02',\n",
      " 'link': 'https://lenta.ruhttps://moslenta.ru/news/lyudi/bari-alibasov-13-07-2022.htm',\n",
      " 'source': 'lenta.ru',\n",
      " 'title': 'Бари Алибасов назвал главные ошибки в своей жизни'}\n",
      "{'_id': -1151951631188106829,\n",
      " 'date': '11:56',\n",
      " 'link': 'https://lenta.ru/news/2022/07/13/callsoul/',\n",
      " 'source': 'lenta.ru',\n",
      " 'title': 'Звезда «Во все тяжкие» рассказал об инфаркте на съемках «Лучше '\n",
      "          'звоните Солу»'}\n",
      "{'_id': 607340052048478650,\n",
      " 'date': '11:54',\n",
      " 'link': 'https://lenta.ru/news/2022/07/13/lbr_hospital/',\n",
      " 'source': 'lenta.ru',\n",
      " 'title': 'Посол ЛНР обвинил ВСУ в уничтожении больниц на оставленных '\n",
      "          'территориях'}\n"
     ]
    }
   ],
   "source": [
    "# Читаем записи из раздела lenta.ru БД новостей\n",
    "from pprint import pprint\n",
    "items_in_db = []\n",
    "\n",
    "items_in_db = lenta_db.find({})\n",
    "\n",
    "for item in range(3):\n",
    "    pprint(items_in_db[item])"
   ]
  }
 ],
 "metadata": {
  "kernelspec": {
   "display_name": "Python 3 (ipykernel)",
   "language": "python",
   "name": "python3"
  },
  "language_info": {
   "codemirror_mode": {
    "name": "ipython",
    "version": 3
   },
   "file_extension": ".py",
   "mimetype": "text/x-python",
   "name": "python",
   "nbconvert_exporter": "python",
   "pygments_lexer": "ipython3",
   "version": "3.9.7"
  }
 },
 "nbformat": 4,
 "nbformat_minor": 5
}

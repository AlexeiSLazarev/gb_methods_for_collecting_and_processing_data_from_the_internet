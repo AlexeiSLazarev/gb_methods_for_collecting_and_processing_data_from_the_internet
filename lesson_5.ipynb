{
 "cells": [
  {
   "cell_type": "markdown",
   "metadata": {},
   "source": [
    "Задача:\n",
    "Написать программу, которая собирает входящие письма из своего или тестового почтового ящика и сложить данные о письмах в базу данных (от кого, дата отправки, тема письма, текст письма полный)\n",
    "Логин тестового ящика: study.ai_172@mail.ru\n",
    "Пароль тестового ящика: NextPassword172#"
   ]
  },
  {
   "cell_type": "code",
   "execution_count": null,
   "metadata": {},
   "outputs": [],
   "source": [
    "# !pip install selenium\n",
    "# !pip install webdriver-manager\n",
    "\n",
    "# from selenium import webdriver\n",
    "# from webdriver_manager.chrome import ChromeDriverManager\n",
    "\n",
    "# driver = webdriver.Chrome(ChromeDriverManager().install())"
   ]
  },
  {
   "cell_type": "code",
   "execution_count": 159,
   "metadata": {},
   "outputs": [
    {
     "name": "stdout",
     "output_type": "stream",
     "text": [
      "\n",
      "Кол-во писем после скролла:  37\n",
      "Кол-во писем после скролла:  40\n",
      "Кол-во писем после скролла:  40\n"
     ]
    }
   ],
   "source": [
    "from selenium.common.exceptions import TimeoutException\n",
    "from selenium import webdriver\n",
    "from selenium.webdriver.common.by import By\n",
    "from selenium.webdriver.chrome.service import Service\n",
    "from selenium.webdriver.common.keys import Keys\n",
    "from selenium.webdriver.support.ui import Select\n",
    "from selenium.webdriver.chrome.options import Options\n",
    "from selenium.webdriver.support.ui import WebDriverWait\n",
    "from selenium.webdriver.support import expected_conditions as EC\n",
    "\n",
    "\n",
    "import time\n",
    "\n",
    "\n",
    "s = Service(ChromeDriverManager().install())\n",
    "\n",
    "options = Options()\n",
    "options.add_argument('start-maximized')\n",
    "\n",
    "driver = webdriver.Chrome(service=s, options=options)\n",
    "driver.get('https://mail.ru/')\n",
    "# driver.implicitly_wait(10)\n",
    "\n",
    "button = WebDriverWait(driver, 10).until(\n",
    "    EC.element_to_be_clickable((By.XPATH, \"//button [@class = 'ph-login svelte-1hiqrvn']\"))\n",
    ")\n",
    "\n",
    "button.click()\n",
    "time.sleep(2)\n",
    "\n",
    "iframe = driver.find_element(By.XPATH, \"//iframe[@src = 'https://account.mail.ru/login/?mode=simple&v=2.9.2&account_host=account.mail.ru&type=login&allow_external=1&app_id_mytracker=58519&success_redirect=https%3A%2F%2Fe.mail.ru%2Fmessages%2Finbox%3Fback%3D1&project=home&from=navi&parent_url=https%3A%2F%2Fmail.ru%2F']\")\n",
    "driver.switch_to.frame(iframe)\n",
    "\n",
    "# заполняем имя пользователя\n",
    "email_input = driver.find_element(By.NAME, 'username')\n",
    "email_input.send_keys(\"study.ai_172@mail.ru\")\n",
    "email_input.submit()\n",
    "time.sleep(1)\n",
    "\n",
    "# вводим пароль\n",
    "pass_input = driver.find_element(By.NAME, 'password')\n",
    "pass_input.send_keys('NextPassword172#')\n",
    "pass_input.submit()\n",
    "time.sleep(5)\n",
    "\n",
    "\n",
    "email_arr = []\n",
    "hash_list = []\n",
    "\n",
    "for i in range(3):\n",
    "    element = driver.find_element(By.XPATH, \"//div[@class = 'ReactVirtualized__Grid ReactVirtualized__List dataset__items scrollable_styled scrollable_content _29RYYLK9KxqKFihwIfEQr_']\")\n",
    "    driver.execute_script(\"arguments[0].scrollBy(0, 1000)\", element)\n",
    "    time.sleep(2)\n",
    "\n",
    "    mails = driver.find_elements(By.XPATH,\"//div[@class='ReactVirtualized__Grid__innerScrollContainer']/a\")\n",
    "    for e in mails:     \n",
    "        email = {'sender':'', 'title' :'', 'date'  :''}\n",
    "        s = e.find_element(By.XPATH, \"./div[@class='llc__container']\").text\n",
    "        s = s.split('\\n')\n",
    "        email['sender'] = s[0]\n",
    "        email['title'] = s[1]\n",
    "        email['date'] = s[2]\n",
    "        email['hash'] = hash(frozenset(email.items()))\n",
    "\n",
    "        if email['hash'] not in hash_list:\n",
    "            hash_list.append(email['hash'])\n",
    "            email_arr.append(email)\n",
    "        else:\n",
    "            pass\n",
    "#             print('Письмо зарегистрировано!')\n",
    "    print('Кол-во писем после скролла: ', len(email_arr))\n",
    "\n",
    "\n",
    "# Отправляем сообщения в БД аналогично предыдущему уроку\n",
    "    "
   ]
  }
 ],
 "metadata": {
  "kernelspec": {
   "display_name": "Python 3",
   "language": "python",
   "name": "python3"
  },
  "language_info": {
   "codemirror_mode": {
    "name": "ipython",
    "version": 3
   },
   "file_extension": ".py",
   "mimetype": "text/x-python",
   "name": "python",
   "nbconvert_exporter": "python",
   "pygments_lexer": "ipython3",
   "version": "3.8.5"
  }
 },
 "nbformat": 4,
 "nbformat_minor": 4
}
